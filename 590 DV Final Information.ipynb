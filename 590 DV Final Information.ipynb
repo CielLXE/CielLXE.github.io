{
 "cells": [
  {
   "cell_type": "code",
   "execution_count": 4,
   "metadata": {},
   "outputs": [],
   "source": [
    "import pandas as pd\n",
    "import bqplot\n",
    "\n",
    "data = pd.read_csv(\"Africa_Data.csv\")\n",
    "Detailed_info = data[['Country', 'name', 'angellist_url', 'company_url']]"
   ]
  },
  {
   "cell_type": "code",
   "execution_count": 5,
   "metadata": {
    "scrolled": false
   },
   "outputs": [
    {
     "data": {
      "application/vnd.jupyter.widget-view+json": {
       "model_id": "3c55f8ede43c490bb8ba08bf5550797b",
       "version_major": 2,
       "version_minor": 0
      },
      "text/plain": [
       "VBox(children=(Figure(fig_margin={'top': 60, 'bottom': 60, 'left': 60, 'right': 60}, layout=Layout(min_width='…"
      ]
     },
     "metadata": {},
     "output_type": "display_data"
    },
    {
     "data": {
      "application/vnd.jupyter.widget-view+json": {
       "model_id": "1dd73bfb2513472bbdaf415819cfaa36",
       "version_major": 2,
       "version_minor": 0
      },
      "text/plain": [
       "interactive(children=(Dropdown(description='names', options=('Marine Waste Recycle Business Plan', 'WashOn lau…"
      ]
     },
     "metadata": {},
     "output_type": "display_data"
    },
    {
     "data": {
      "application/vnd.jupyter.widget-view+json": {
       "model_id": "15e8f603eea64d59837cc53eff248637",
       "version_major": 2,
       "version_minor": 0
      },
      "text/plain": [
       "interactive(children=(Dropdown(description='names', options=('miza', 'FutureBox', 'Rio company for foodstuff i…"
      ]
     },
     "metadata": {},
     "output_type": "display_data"
    }
   ],
   "source": [
    "import ipywidgets\n",
    "from ipywidgets import *\n",
    "\n",
    "word_map_code=pd.read_csv(\"world_map_codes.csv\")\n",
    "\n",
    "col_sc=bqplot.ColorScale(scheme=\"Reds\")\n",
    "c_ax=bqplot.ColorAxis(scale=col_sc,orientation=\"vertical\",side=\"right\")\n",
    "def_tt = bqplot.Tooltip(fields=['id','name'])\n",
    "\n",
    "\n",
    "map_mark = bqplot.Map(scales={'projection': bqplot.Mercator(),'color':col_sc}, \n",
    "                      tooltip=def_tt, \n",
    "                      interactions = { \"click\":\"select\",'hover': 'tooltip'})\n",
    "\n",
    "fig=bqplot.Figure(marks=[map_mark], title='Interactions Example')\n",
    "\n",
    "f = []\n",
    "x = []\n",
    "def selection_changed(event):\n",
    "    sel_cos=[]\n",
    "    for sel_co in event[\"new\"]:\n",
    "        sel_cos.append(word_map_code[word_map_code[\"ISON3\"]==int(sel_co)][\"Name\"].values[0])\n",
    "    \n",
    "    a = []\n",
    "    company_data = []\n",
    "    for row in sel_cos:\n",
    "        company_data = Detailed_info.loc[Detailed_info['Country'] == row]\n",
    "        a = (company_data.name.values).tolist()\n",
    "#         company.append((Detailed_info.loc[Detailed_info['Country'] == row].name.values).tolist())\n",
    "    \n",
    "\n",
    "    @ipywidgets.interact(names = a)\n",
    "    def print_info(names): \n",
    "        show = pd.DataFrame(company_data.loc[(company_data['name'] == names)])\n",
    "        print(show)\n",
    "    \n",
    "map_mark.observe(selection_changed,\"selected\")\n",
    "display(widgets.VBox([fig]))"
   ]
  }
 ],
 "metadata": {
  "kernelspec": {
   "display_name": "Python 3",
   "language": "python",
   "name": "python3"
  },
  "language_info": {
   "codemirror_mode": {
    "name": "ipython",
    "version": 3
   },
   "file_extension": ".py",
   "mimetype": "text/x-python",
   "name": "python",
   "nbconvert_exporter": "python",
   "pygments_lexer": "ipython3",
   "version": "3.7.0"
  }
 },
 "nbformat": 4,
 "nbformat_minor": 2
}
